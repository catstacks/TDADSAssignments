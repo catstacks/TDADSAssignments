{
 "cells": [
  {
   "cell_type": "markdown",
   "metadata": {},
   "source": [
    "# Linear Regression: Predicting Taxi-Out Delay"
   ]
  },
  {
   "cell_type": "markdown",
   "metadata": {},
   "source": [
    "#### Task Details\n",
    "1. Go throught the dataset and perform preprocessing and then perform a 90:10 split and for train and test pruposes.\n",
    "2. Firstly label encode the columns which are required.\n",
    "3. Your target or y variable is TAXI-OUT time. Use all 8 algorithms above on the dataset with loss score as RMSE (Root mean Square Error).\n",
    "4. Now, One-Hot encode all the data points and preform the 3rd Step again.\n",
    "\n",
    "Keep in mind that you will be using the same splitted dataframe for all the training and testing and should not split again.\n",
    "\n",
    "##### Some models to consider:-\n",
    "\n",
    "Linear Models:-\n",
    "\n",
    "1. Linear Regression\n",
    "2. Ridge Regression(Popularily L1)\n",
    "3. Lasso Regression(Popularily L2)\n",
    "\n",
    "Non linear Models:-\n",
    "\n",
    "1. KNN model\n",
    "2. SVR\n",
    "3. Naive Bayes\n",
    "4. Random Forest\n",
    "5. LightGBM(Tree Based Model)\n",
    "\n",
    "##### Expected Submission\n",
    "Open Submission till end of July.\n",
    "Submit a Notebook: End-Goal: We will see how label encoding or one hot encoding is better for the model and which out of the 8 algorithms which is the best. Just a cojparative study and plots to understand the results on bigger datasets.\n",
    "\n",
    "##### Evaluation\n",
    "Having a complete report along with comparative graphs."
   ]
  },
  {
   "cell_type": "code",
   "execution_count": 1,
   "metadata": {},
   "outputs": [],
   "source": [
    "import numpy as np\n",
    "import matplotlib.pyplot as plt\n",
    "import pandas as pd\n",
    "from sklearn.linear_model import LinearRegression\n",
    "from sklearn.linear_model import Lasso\n",
    "from sklearn.linear_model import Ridge"
   ]
  },
  {
   "cell_type": "markdown",
   "metadata": {},
   "source": [
    "### Loading the data from csv file"
   ]
  },
  {
   "cell_type": "code",
   "execution_count": null,
   "metadata": {},
   "outputs": [],
   "source": []
  }
 ],
 "metadata": {
  "interpreter": {
   "hash": "74a127822aa27b16367196349e1567db76b1f81d7caab894a1c88331655f46f0"
  },
  "kernelspec": {
   "display_name": "Python 3.9.7 64-bit ('base': conda)",
   "language": "python",
   "name": "python3"
  },
  "language_info": {
   "codemirror_mode": {
    "name": "ipython",
    "version": 3
   },
   "file_extension": ".py",
   "mimetype": "text/x-python",
   "name": "python",
   "nbconvert_exporter": "python",
   "pygments_lexer": "ipython3",
   "version": "3.9.7"
  },
  "orig_nbformat": 4
 },
 "nbformat": 4,
 "nbformat_minor": 2
}
